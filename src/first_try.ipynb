{
 "cells": [
  {
   "cell_type": "code",
   "execution_count": 22,
   "metadata": {},
   "outputs": [
    {
     "name": "stdout",
     "output_type": "stream",
     "text": [
      "Requirement already satisfied: matplotlib==3.8.2 in /home/leontxo/Documents/kaggle/DisasterTuits/venv/lib/python3.10/site-packages (3.8.2)\n",
      "Requirement already satisfied: pillow>=8 in /home/leontxo/Documents/kaggle/DisasterTuits/venv/lib/python3.10/site-packages (from matplotlib==3.8.2) (10.3.0)\n",
      "Requirement already satisfied: pyparsing>=2.3.1 in /home/leontxo/Documents/kaggle/DisasterTuits/venv/lib/python3.10/site-packages (from matplotlib==3.8.2) (3.1.2)\n",
      "Requirement already satisfied: fonttools>=4.22.0 in /home/leontxo/Documents/kaggle/DisasterTuits/venv/lib/python3.10/site-packages (from matplotlib==3.8.2) (4.51.0)\n",
      "Requirement already satisfied: cycler>=0.10 in /home/leontxo/Documents/kaggle/DisasterTuits/venv/lib/python3.10/site-packages (from matplotlib==3.8.2) (0.12.1)\n",
      "Requirement already satisfied: numpy<2,>=1.21 in /home/leontxo/Documents/kaggle/DisasterTuits/venv/lib/python3.10/site-packages (from matplotlib==3.8.2) (1.26.4)\n",
      "Requirement already satisfied: contourpy>=1.0.1 in /home/leontxo/Documents/kaggle/DisasterTuits/venv/lib/python3.10/site-packages (from matplotlib==3.8.2) (1.2.1)\n",
      "Requirement already satisfied: packaging>=20.0 in /home/leontxo/Documents/kaggle/DisasterTuits/venv/lib/python3.10/site-packages (from matplotlib==3.8.2) (24.0)\n",
      "Requirement already satisfied: python-dateutil>=2.7 in /home/leontxo/Documents/kaggle/DisasterTuits/venv/lib/python3.10/site-packages (from matplotlib==3.8.2) (2.9.0.post0)\n",
      "Requirement already satisfied: kiwisolver>=1.3.1 in /home/leontxo/Documents/kaggle/DisasterTuits/venv/lib/python3.10/site-packages (from matplotlib==3.8.2) (1.4.5)\n",
      "Requirement already satisfied: six>=1.5 in /home/leontxo/Documents/kaggle/DisasterTuits/venv/lib/python3.10/site-packages (from python-dateutil>=2.7->matplotlib==3.8.2) (1.16.0)\n",
      "Requirement already satisfied: tensorflow==2.16.1 in /home/leontxo/Documents/kaggle/DisasterTuits/venv/lib/python3.10/site-packages (2.16.1)\n",
      "Requirement already satisfied: six>=1.12.0 in /home/leontxo/Documents/kaggle/DisasterTuits/venv/lib/python3.10/site-packages (from tensorflow==2.16.1) (1.16.0)\n",
      "Requirement already satisfied: ml-dtypes~=0.3.1 in /home/leontxo/Documents/kaggle/DisasterTuits/venv/lib/python3.10/site-packages (from tensorflow==2.16.1) (0.3.2)\n",
      "Requirement already satisfied: keras>=3.0.0 in /home/leontxo/Documents/kaggle/DisasterTuits/venv/lib/python3.10/site-packages (from tensorflow==2.16.1) (3.3.3)\n",
      "Requirement already satisfied: termcolor>=1.1.0 in /home/leontxo/Documents/kaggle/DisasterTuits/venv/lib/python3.10/site-packages (from tensorflow==2.16.1) (2.4.0)\n",
      "Requirement already satisfied: opt-einsum>=2.3.2 in /home/leontxo/Documents/kaggle/DisasterTuits/venv/lib/python3.10/site-packages (from tensorflow==2.16.1) (3.3.0)\n",
      "Requirement already satisfied: typing-extensions>=3.6.6 in /home/leontxo/Documents/kaggle/DisasterTuits/venv/lib/python3.10/site-packages (from tensorflow==2.16.1) (4.11.0)\n",
      "Requirement already satisfied: gast!=0.5.0,!=0.5.1,!=0.5.2,>=0.2.1 in /home/leontxo/Documents/kaggle/DisasterTuits/venv/lib/python3.10/site-packages (from tensorflow==2.16.1) (0.5.4)\n",
      "Requirement already satisfied: google-pasta>=0.1.1 in /home/leontxo/Documents/kaggle/DisasterTuits/venv/lib/python3.10/site-packages (from tensorflow==2.16.1) (0.2.0)\n",
      "Requirement already satisfied: tensorboard<2.17,>=2.16 in /home/leontxo/Documents/kaggle/DisasterTuits/venv/lib/python3.10/site-packages (from tensorflow==2.16.1) (2.16.2)\n",
      "Requirement already satisfied: protobuf!=4.21.0,!=4.21.1,!=4.21.2,!=4.21.3,!=4.21.4,!=4.21.5,<5.0.0dev,>=3.20.3 in /home/leontxo/Documents/kaggle/DisasterTuits/venv/lib/python3.10/site-packages (from tensorflow==2.16.1) (4.25.3)\n",
      "Requirement already satisfied: packaging in /home/leontxo/Documents/kaggle/DisasterTuits/venv/lib/python3.10/site-packages (from tensorflow==2.16.1) (24.0)\n",
      "Requirement already satisfied: absl-py>=1.0.0 in /home/leontxo/Documents/kaggle/DisasterTuits/venv/lib/python3.10/site-packages (from tensorflow==2.16.1) (2.1.0)\n",
      "Requirement already satisfied: astunparse>=1.6.0 in /home/leontxo/Documents/kaggle/DisasterTuits/venv/lib/python3.10/site-packages (from tensorflow==2.16.1) (1.6.3)\n",
      "Requirement already satisfied: flatbuffers>=23.5.26 in /home/leontxo/Documents/kaggle/DisasterTuits/venv/lib/python3.10/site-packages (from tensorflow==2.16.1) (24.3.25)\n",
      "Requirement already satisfied: setuptools in /home/leontxo/Documents/kaggle/DisasterTuits/venv/lib/python3.10/site-packages (from tensorflow==2.16.1) (59.6.0)\n",
      "Requirement already satisfied: requests<3,>=2.21.0 in /home/leontxo/Documents/kaggle/DisasterTuits/venv/lib/python3.10/site-packages (from tensorflow==2.16.1) (2.31.0)\n",
      "Requirement already satisfied: numpy<2.0.0,>=1.23.5 in /home/leontxo/Documents/kaggle/DisasterTuits/venv/lib/python3.10/site-packages (from tensorflow==2.16.1) (1.26.4)\n",
      "Requirement already satisfied: tensorflow-io-gcs-filesystem>=0.23.1 in /home/leontxo/Documents/kaggle/DisasterTuits/venv/lib/python3.10/site-packages (from tensorflow==2.16.1) (0.37.0)\n",
      "Requirement already satisfied: wrapt>=1.11.0 in /home/leontxo/Documents/kaggle/DisasterTuits/venv/lib/python3.10/site-packages (from tensorflow==2.16.1) (1.14.1)\n",
      "Requirement already satisfied: grpcio<2.0,>=1.24.3 in /home/leontxo/Documents/kaggle/DisasterTuits/venv/lib/python3.10/site-packages (from tensorflow==2.16.1) (1.63.0)\n",
      "Requirement already satisfied: h5py>=3.10.0 in /home/leontxo/Documents/kaggle/DisasterTuits/venv/lib/python3.10/site-packages (from tensorflow==2.16.1) (3.11.0)\n",
      "Requirement already satisfied: libclang>=13.0.0 in /home/leontxo/Documents/kaggle/DisasterTuits/venv/lib/python3.10/site-packages (from tensorflow==2.16.1) (18.1.1)\n",
      "Requirement already satisfied: wheel<1.0,>=0.23.0 in /home/leontxo/Documents/kaggle/DisasterTuits/venv/lib/python3.10/site-packages (from astunparse>=1.6.0->tensorflow==2.16.1) (0.43.0)\n",
      "Requirement already satisfied: rich in /home/leontxo/Documents/kaggle/DisasterTuits/venv/lib/python3.10/site-packages (from keras>=3.0.0->tensorflow==2.16.1) (13.7.1)\n",
      "Requirement already satisfied: namex in /home/leontxo/Documents/kaggle/DisasterTuits/venv/lib/python3.10/site-packages (from keras>=3.0.0->tensorflow==2.16.1) (0.0.8)\n",
      "Requirement already satisfied: optree in /home/leontxo/Documents/kaggle/DisasterTuits/venv/lib/python3.10/site-packages (from keras>=3.0.0->tensorflow==2.16.1) (0.11.0)\n",
      "Requirement already satisfied: certifi>=2017.4.17 in /home/leontxo/Documents/kaggle/DisasterTuits/venv/lib/python3.10/site-packages (from requests<3,>=2.21.0->tensorflow==2.16.1) (2024.2.2)\n",
      "Requirement already satisfied: urllib3<3,>=1.21.1 in /home/leontxo/Documents/kaggle/DisasterTuits/venv/lib/python3.10/site-packages (from requests<3,>=2.21.0->tensorflow==2.16.1) (2.2.1)\n",
      "Requirement already satisfied: charset-normalizer<4,>=2 in /home/leontxo/Documents/kaggle/DisasterTuits/venv/lib/python3.10/site-packages (from requests<3,>=2.21.0->tensorflow==2.16.1) (3.3.2)\n",
      "Requirement already satisfied: idna<4,>=2.5 in /home/leontxo/Documents/kaggle/DisasterTuits/venv/lib/python3.10/site-packages (from requests<3,>=2.21.0->tensorflow==2.16.1) (3.7)\n",
      "Requirement already satisfied: markdown>=2.6.8 in /home/leontxo/Documents/kaggle/DisasterTuits/venv/lib/python3.10/site-packages (from tensorboard<2.17,>=2.16->tensorflow==2.16.1) (3.6)\n",
      "Requirement already satisfied: werkzeug>=1.0.1 in /home/leontxo/Documents/kaggle/DisasterTuits/venv/lib/python3.10/site-packages (from tensorboard<2.17,>=2.16->tensorflow==2.16.1) (3.0.2)\n",
      "Requirement already satisfied: tensorboard-data-server<0.8.0,>=0.7.0 in /home/leontxo/Documents/kaggle/DisasterTuits/venv/lib/python3.10/site-packages (from tensorboard<2.17,>=2.16->tensorflow==2.16.1) (0.7.2)\n",
      "Requirement already satisfied: MarkupSafe>=2.1.1 in /home/leontxo/Documents/kaggle/DisasterTuits/venv/lib/python3.10/site-packages (from werkzeug>=1.0.1->tensorboard<2.17,>=2.16->tensorflow==2.16.1) (2.1.5)\n",
      "Requirement already satisfied: markdown-it-py>=2.2.0 in /home/leontxo/Documents/kaggle/DisasterTuits/venv/lib/python3.10/site-packages (from rich->keras>=3.0.0->tensorflow==2.16.1) (3.0.0)\n",
      "Requirement already satisfied: pygments<3.0.0,>=2.13.0 in /home/leontxo/Documents/kaggle/DisasterTuits/venv/lib/python3.10/site-packages (from rich->keras>=3.0.0->tensorflow==2.16.1) (2.17.2)\n",
      "Requirement already satisfied: mdurl~=0.1 in /home/leontxo/Documents/kaggle/DisasterTuits/venv/lib/python3.10/site-packages (from markdown-it-py>=2.2.0->rich->keras>=3.0.0->tensorflow==2.16.1) (0.1.2)\n"
     ]
    }
   ],
   "source": [
    "!pip install matplotlib==3.8.2\n",
    "!pip install tensorflow==2.16.1"
   ]
  },
  {
   "cell_type": "code",
   "execution_count": 23,
   "metadata": {},
   "outputs": [
    {
     "ename": "ModuleNotFoundError",
     "evalue": "No module named 'keras.preprocessing.text'",
     "output_type": "error",
     "traceback": [
      "\u001b[0;31m---------------------------------------------------------------------------\u001b[0m",
      "\u001b[0;31mModuleNotFoundError\u001b[0m                       Traceback (most recent call last)",
      "Cell \u001b[0;32mIn[23], line 4\u001b[0m\n\u001b[1;32m      2\u001b[0m \u001b[38;5;28;01mimport\u001b[39;00m \u001b[38;5;21;01mtensorflow\u001b[39;00m \u001b[38;5;28;01mas\u001b[39;00m \u001b[38;5;21;01mtf\u001b[39;00m\n\u001b[1;32m      3\u001b[0m \u001b[38;5;28;01mimport\u001b[39;00m \u001b[38;5;21;01mnumpy\u001b[39;00m \u001b[38;5;28;01mas\u001b[39;00m \u001b[38;5;21;01mnp\u001b[39;00m\n\u001b[0;32m----> 4\u001b[0m \u001b[38;5;28;01mfrom\u001b[39;00m \u001b[38;5;21;01mkeras\u001b[39;00m\u001b[38;5;21;01m.\u001b[39;00m\u001b[38;5;21;01mpreprocessing\u001b[39;00m\u001b[38;5;21;01m.\u001b[39;00m\u001b[38;5;21;01mtext\u001b[39;00m \u001b[38;5;28;01mimport\u001b[39;00m Tokenizer\n\u001b[1;32m      5\u001b[0m \u001b[38;5;28;01mfrom\u001b[39;00m \u001b[38;5;21;01mkeras\u001b[39;00m\u001b[38;5;21;01m.\u001b[39;00m\u001b[38;5;21;01mpreprocessing\u001b[39;00m\u001b[38;5;21;01m.\u001b[39;00m\u001b[38;5;21;01msequence\u001b[39;00m \u001b[38;5;28;01mimport\u001b[39;00m pad_sequences\n\u001b[1;32m      6\u001b[0m \u001b[38;5;28;01mfrom\u001b[39;00m \u001b[38;5;21;01mkeras\u001b[39;00m \u001b[38;5;28;01mimport\u001b[39;00m regularizers\n",
      "\u001b[0;31mModuleNotFoundError\u001b[0m: No module named 'keras.preprocessing.text'"
     ]
    }
   ],
   "source": [
    "import re\n",
    "import tensorflow as tf\n",
    "import numpy as np\n",
    "from keras.preprocessing.text import Tokenizer\n",
    "from keras.preprocessing.sequence import pad_sequences\n",
    "from keras import regularizers\n",
    "from keras import Sequential\n",
    "from keras.layers import Embedding, Dense, SimpleRNN\n",
    "from keras.preprocessing import sequence\n",
    "import matplotlib.pyplot as plt\n"
   ]
  },
  {
   "cell_type": "code",
   "execution_count": 16,
   "metadata": {},
   "outputs": [
    {
     "name": "stdout",
     "output_type": "stream",
     "text": [
      "\u001b[31mERROR: Could not find a version that satisfies the requirement keras.preprocessing.text (from versions: none)\u001b[0m\u001b[31m\n",
      "\u001b[0m\u001b[31mERROR: No matching distribution found for keras.preprocessing.text\u001b[0m\u001b[31m\n",
      "\u001b[0m"
     ]
    }
   ],
   "source": [
    "!pip install keras.preprocessing.text"
   ]
  },
  {
   "cell_type": "code",
   "execution_count": null,
   "metadata": {},
   "outputs": [],
   "source": []
  }
 ],
 "metadata": {
  "kernelspec": {
   "display_name": "venv",
   "language": "python",
   "name": "python3"
  },
  "language_info": {
   "codemirror_mode": {
    "name": "ipython",
    "version": 3
   },
   "file_extension": ".py",
   "mimetype": "text/x-python",
   "name": "python",
   "nbconvert_exporter": "python",
   "pygments_lexer": "ipython3",
   "version": "3.10.12"
  }
 },
 "nbformat": 4,
 "nbformat_minor": 2
}
